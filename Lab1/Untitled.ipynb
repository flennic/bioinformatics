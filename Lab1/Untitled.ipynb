{
 "cells": [
  {
   "cell_type": "code",
   "execution_count": 1,
   "metadata": {},
   "outputs": [],
   "source": [
    "import numpy as np\n",
    "import pandas as pd"
   ]
  },
  {
   "cell_type": "code",
   "execution_count": 2,
   "metadata": {},
   "outputs": [],
   "source": [
    "def crit_value(expected, observed):\n",
    "    \"\"\"Returns the critical value for a\n",
    "    Chi-squared goodness of fit test.\n",
    "    \n",
    "    Parameters\n",
    "    ----------\n",
    "    expected: list\n",
    "        List that contains the expected frequencies of\n",
    "        the categories.\n",
    "    observed: list\n",
    "        List that contains the observed frequencies of\n",
    "        the categories.\n",
    "        \n",
    "    Returns\n",
    "    -------\n",
    "    Chi-square critical value.\n",
    "    \"\"\"\n",
    "    values = [np.square(e_i - o_i) / e_i for e_i, o_i in zip(expected, observed)]\n",
    "    chi_critical = np.sum(values)\n",
    "    \n",
    "    return chi_critical"
   ]
  },
  {
   "cell_type": "code",
   "execution_count": 15,
   "metadata": {},
   "outputs": [
    {
     "data": {
      "text/plain": [
       "973"
      ]
     },
     "execution_count": 15,
     "metadata": {},
     "output_type": "execute_result"
    }
   ],
   "source": [
    "MM + NM + NN"
   ]
  },
  {
   "cell_type": "code",
   "execution_count": 40,
   "metadata": {},
   "outputs": [
    {
     "name": "stdout",
     "output_type": "stream",
     "text": [
      "Estimated population proportions: (0.5, 0.5)\n",
      "Hardy-Weinberg equilibrium proportions: (0.25, 0.25, 0.5)\n",
      "Observed: [0.49994110693760274, 0.49994110693760274, 0.00011778612479449921]\n",
      "Expected: [0.25, 0.25, 0.5]\n"
     ]
    }
   ],
   "source": [
    "# Parameters.\n",
    "MM = 10000000\n",
    "NM = 2356\n",
    "NN = 10000000\n",
    "N = MM + NM + NN\n",
    "\n",
    "# Estimation of population\n",
    "# proportions.\n",
    "p = (MM + 0.5 * NM) / N\n",
    "q = (NN + 0.5 * NM) / N\n",
    "\n",
    "# Hardy-Weinberg equilibrium proportions.\n",
    "p_squared = p ** 2\n",
    "q_squared = q ** 2\n",
    "two_pq = 2 * p * q\n",
    "\n",
    "expected = [p_squared, q_squared, two_pq]\n",
    "observed = [MM / N, NN / N, NM / N]\n",
    "\n",
    "print(\"Estimated population proportions:\", (p, q))\n",
    "print(\"Hardy-Weinberg equilibrium proportions:\" ,(p_squared, q_squared, two_pq))\n",
    "print(\"Observed:\", observed)\n",
    "print(\"Expected:\", expected)"
   ]
  },
  {
   "cell_type": "code",
   "execution_count": 41,
   "metadata": {},
   "outputs": [
    {
     "data": {
      "text/plain": [
       "0.99952891099510666"
      ]
     },
     "execution_count": 41,
     "metadata": {},
     "output_type": "execute_result"
    }
   ],
   "source": [
    "chi_crit = crit_value(expected, observed)\n",
    "chi_crit"
   ]
  },
  {
   "cell_type": "code",
   "execution_count": 42,
   "metadata": {},
   "outputs": [],
   "source": [
    "from scipy.stats import chisquare"
   ]
  },
  {
   "cell_type": "code",
   "execution_count": 43,
   "metadata": {},
   "outputs": [
    {
     "data": {
      "text/plain": [
       "Power_divergenceResult(statistic=0.99952891099510666, pvalue=0.60667354150194353)"
      ]
     },
     "execution_count": 43,
     "metadata": {},
     "output_type": "execute_result"
    }
   ],
   "source": [
    "chisquare(observed, expected)"
   ]
  },
  {
   "cell_type": "code",
   "execution_count": null,
   "metadata": {},
   "outputs": [],
   "source": []
  },
  {
   "cell_type": "code",
   "execution_count": null,
   "metadata": {},
   "outputs": [],
   "source": []
  }
 ],
 "metadata": {
  "kernelspec": {
   "display_name": "Python 3",
   "language": "python",
   "name": "python3"
  },
  "language_info": {
   "codemirror_mode": {
    "name": "ipython",
    "version": 3
   },
   "file_extension": ".py",
   "mimetype": "text/x-python",
   "name": "python",
   "nbconvert_exporter": "python",
   "pygments_lexer": "ipython3",
   "version": "3.6.6"
  }
 },
 "nbformat": 4,
 "nbformat_minor": 2
}
