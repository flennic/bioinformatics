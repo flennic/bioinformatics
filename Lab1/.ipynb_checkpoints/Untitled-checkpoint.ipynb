{
 "cells": [
  {
   "cell_type": "code",
   "execution_count": 1,
   "metadata": {},
   "outputs": [],
   "source": [
    "import numpy as np\n",
    "import pandas as pd"
   ]
  },
  {
   "cell_type": "code",
   "execution_count": 2,
   "metadata": {},
   "outputs": [],
   "source": [
    "def crit_value(expected, observed):\n",
    "    \"\"\"Returns the critical value for a\n",
    "    Chi-squared goodness of fit test.\n",
    "    \n",
    "    Parameters\n",
    "    ----------\n",
    "    expected: list\n",
    "        List that contains the expected frequencies of\n",
    "        the categories.\n",
    "    observed: list\n",
    "        List that contains the observed frequencies of\n",
    "        the categories.\n",
    "        \n",
    "    Returns\n",
    "    -------\n",
    "    Chi-square critical value.\n",
    "    \"\"\"\n",
    "    values = [np.square(e_i - o_i) / e_i for e_i, o_i in zip(expected, observed)]\n",
    "    chi_critical = np.sum(values)\n",
    "    \n",
    "    return chi_critial"
   ]
  },
  {
   "cell_type": "code",
   "execution_count": null,
   "metadata": {},
   "outputs": [],
   "source": [
    "# Parameters.\n",
    "N = 1000\n",
    "MM = 357\n",
    "NM = 458\n",
    "NN = 158\n",
    "\n",
    "# Estimation of population\n",
    "# proportions.\n",
    "p = (MM + 0.5 * NM) / N\n",
    "q = (NN + 0.5 * NM) / M\n",
    "\n",
    "# Hardy-Weinberg equilibrium proportions.\n",
    "p_squared = p ** 2\n",
    "q_squared = q **2\n",
    "two_pw = 2 * p * q"
   ]
  }
 ],
 "metadata": {
  "kernelspec": {
   "display_name": "Python 3",
   "language": "python",
   "name": "python3"
  },
  "language_info": {
   "codemirror_mode": {
    "name": "ipython",
    "version": 3
   },
   "file_extension": ".py",
   "mimetype": "text/x-python",
   "name": "python",
   "nbconvert_exporter": "python",
   "pygments_lexer": "ipython3",
   "version": "3.6.6"
  }
 },
 "nbformat": 4,
 "nbformat_minor": 2
}
